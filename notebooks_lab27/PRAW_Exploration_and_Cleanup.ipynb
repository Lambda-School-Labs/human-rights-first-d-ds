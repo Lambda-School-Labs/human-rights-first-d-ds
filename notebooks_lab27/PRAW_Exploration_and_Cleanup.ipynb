{
  "nbformat": 4,
  "nbformat_minor": 0,
  "metadata": {
    "colab": {
      "name": "PRAW Notebook 2",
      "provenance": [],
      "collapsed_sections": []
    },
    "kernelspec": {
      "name": "python3",
      "display_name": "Python 3"
    }
  },
  "cells": [
    {
      "cell_type": "code",
      "metadata": {
        "id": "GfMYp7uc6qmz",
        "colab_type": "code",
        "colab": {
          "base_uri": "https://localhost:8080/",
          "height": 343
        },
        "outputId": "ee0afa37-345b-4428-ddf8-99df932a412c"
      },
      "source": [
        "pip install praw"
      ],
      "execution_count": 1,
      "outputs": [
        {
          "output_type": "stream",
          "text": [
            "Collecting praw\n",
            "\u001b[?25l  Downloading https://files.pythonhosted.org/packages/2c/15/4bcc44271afce0316c73cd2ed35f951f1363a07d4d5d5440ae5eb2baad78/praw-7.1.0-py3-none-any.whl (152kB)\n",
            "\r\u001b[K     |██▏                             | 10kB 20.1MB/s eta 0:00:01\r\u001b[K     |████▎                           | 20kB 2.1MB/s eta 0:00:01\r\u001b[K     |██████▌                         | 30kB 2.8MB/s eta 0:00:01\r\u001b[K     |████████▋                       | 40kB 3.1MB/s eta 0:00:01\r\u001b[K     |██████████▊                     | 51kB 2.6MB/s eta 0:00:01\r\u001b[K     |█████████████                   | 61kB 2.8MB/s eta 0:00:01\r\u001b[K     |███████████████                 | 71kB 3.1MB/s eta 0:00:01\r\u001b[K     |█████████████████▎              | 81kB 3.3MB/s eta 0:00:01\r\u001b[K     |███████████████████▍            | 92kB 3.6MB/s eta 0:00:01\r\u001b[K     |█████████████████████▌          | 102kB 3.4MB/s eta 0:00:01\r\u001b[K     |███████████████████████▊        | 112kB 3.4MB/s eta 0:00:01\r\u001b[K     |█████████████████████████▉      | 122kB 3.4MB/s eta 0:00:01\r\u001b[K     |████████████████████████████    | 133kB 3.4MB/s eta 0:00:01\r\u001b[K     |██████████████████████████████▏ | 143kB 3.4MB/s eta 0:00:01\r\u001b[K     |████████████████████████████████| 153kB 3.4MB/s \n",
            "\u001b[?25hCollecting prawcore<2.0,>=1.3.0\n",
            "  Downloading https://files.pythonhosted.org/packages/1d/40/b741437ce4c7b64f928513817b29c0a615efb66ab5e5e01f66fe92d2d95b/prawcore-1.5.0-py3-none-any.whl\n",
            "Collecting update-checker>=0.17\n",
            "  Downloading https://files.pythonhosted.org/packages/0c/ba/8dd7fa5f0b1c6a8ac62f8f57f7e794160c1f86f31c6d0fb00f582372a3e4/update_checker-0.18.0-py3-none-any.whl\n",
            "Collecting websocket-client>=0.54.0\n",
            "\u001b[?25l  Downloading https://files.pythonhosted.org/packages/4c/5f/f61b420143ed1c8dc69f9eaec5ff1ac36109d52c80de49d66e0c36c3dfdf/websocket_client-0.57.0-py2.py3-none-any.whl (200kB)\n",
            "\u001b[K     |████████████████████████████████| 204kB 10.8MB/s \n",
            "\u001b[?25hRequirement already satisfied: requests<3.0,>=2.6.0 in /usr/local/lib/python3.6/dist-packages (from prawcore<2.0,>=1.3.0->praw) (2.23.0)\n",
            "Requirement already satisfied: six in /usr/local/lib/python3.6/dist-packages (from websocket-client>=0.54.0->praw) (1.15.0)\n",
            "Requirement already satisfied: certifi>=2017.4.17 in /usr/local/lib/python3.6/dist-packages (from requests<3.0,>=2.6.0->prawcore<2.0,>=1.3.0->praw) (2020.6.20)\n",
            "Requirement already satisfied: chardet<4,>=3.0.2 in /usr/local/lib/python3.6/dist-packages (from requests<3.0,>=2.6.0->prawcore<2.0,>=1.3.0->praw) (3.0.4)\n",
            "Requirement already satisfied: urllib3!=1.25.0,!=1.25.1,<1.26,>=1.21.1 in /usr/local/lib/python3.6/dist-packages (from requests<3.0,>=2.6.0->prawcore<2.0,>=1.3.0->praw) (1.24.3)\n",
            "Requirement already satisfied: idna<3,>=2.5 in /usr/local/lib/python3.6/dist-packages (from requests<3.0,>=2.6.0->prawcore<2.0,>=1.3.0->praw) (2.10)\n",
            "Installing collected packages: prawcore, update-checker, websocket-client, praw\n",
            "Successfully installed praw-7.1.0 prawcore-1.5.0 update-checker-0.18.0 websocket-client-0.57.0\n"
          ],
          "name": "stdout"
        }
      ]
    },
    {
      "cell_type": "code",
      "metadata": {
        "id": "PEuGLNHa7s_i",
        "colab_type": "code",
        "colab": {}
      },
      "source": [
        "import praw\n",
        "import pandas as pd\n",
        "# Reddit credentials, password stored in .env \n",
        "# PRAW setup and login goes here, omitted for privacy"
      ],
      "execution_count": 2,
      "outputs": []
    },
    {
      "cell_type": "code",
      "metadata": {
        "id": "D8qgYIkMkmnN",
        "colab_type": "code",
        "colab": {
          "base_uri": "https://localhost:8080/",
          "height": 71
        },
        "outputId": "2446d934-f2a3-4251-899d-45556d7512ef"
      },
      "source": [
        "# set up some sort of corpus of keywords to snag specific reddit entries\n",
        "all_locs = pd.read_json('https://raw.githubusercontent.com/2020PB/police-brutality/data_build/all-locations-v2.json')\n",
        "all_locs = pd.json_normalize(all_locs['data'])\n",
        "all_locs = all_locs.drop(columns=['edit_at','id'])\n",
        "def cleanlinks(json):\n",
        "    links_out = []\n",
        "    for link in json:\n",
        "        links_out.append(link['url'])\n",
        "    return links_out\n",
        "all_locs['links'] = all_locs['links'].apply(cleanlinks)\n",
        "all_locs['date'] = pd.to_datetime(all_locs['date'],format='%Y-%m-%d')\n",
        "all_tags = all_locs['tags'].copy()\n",
        "tags = set()\n",
        "for taglist in all_tags:\n",
        "  for tag in taglist:\n",
        "    if tag not in tags:\n",
        "      tags.add(tag)\n",
        "# manually remove needless tags\n",
        "print(tags)\n",
        "tags.discard('')\n",
        "tags.discard('medic')\n",
        "tags.discard('bike')\n",
        "tags.discard('non-protest')\n",
        "tags.discard('pregnant')\n",
        "tags.discard('lgbtq+')\n",
        "tags.discard('racial-profiling')\n",
        "tags.discard('legal-observer')\n",
        "tags.discard('tear-gas-canister')\n",
        "tags.discard('politician')\n",
        "tags.discard('incitement')\n",
        "tags.discard('homeless')\n",
        "tags.discard('shoot')\n",
        "tags.discard('strike')\n",
        "tags.discard('elderly')\n",
        "tags.discard('vehicle')\n",
        "tags.discard('inhumane-treatment')\n",
        "tags.discard('journalist')\n",
        "tags.discard('throw')\n",
        "tags.discard('explosive')\n",
        "tags.discard('threaten')\n",
        "tags.discard('horse')\n",
        "tags.discard('shove')\n",
        "tags.discard('child')\n",
        "tags.discard('shield')\n",
        "tags.discard('dog')\n",
        "tags.discard('knee')\n",
        "tags.discard('protester')\n",
        "tags.discard('gun')\n",
        "tags.discard('conceal')\n",
        "tags.discard('bystander')\n",
        "tags.discard('grab')\n",
        "tags.discard('push')\n",
        "tags.discard('zip-tie')\n",
        "tags.discard('spray')\n",
        "tags.discard('drive')\n",
        "tags.discard('person-with-disability')\n",
        "tags.discard('celebrity')\n",
        "tags.discard('projectile')\n",
        "tags.discard('beat')\n",
        "newtags = set()\n",
        "for tag in tags:\n",
        "  tag = newtags.add(tag.replace('-',' '))\n",
        "tags = newtags\n",
        "print(tags)"
      ],
      "execution_count": 3,
      "outputs": [
        {
          "output_type": "stream",
          "text": [
            "{'', 'shove', 'shoot', 'legal-observer', 'push', 'gun', 'vehicle', 'knee-on-neck', 'explosive', 'foam-bullet', 'death', 'tear-gas', 'body-cam', 'drive', 'politician', 'marking-round', 'medic', 'spray', 'pregnant', 'tear-gas-canister', 'grab', 'kick', 'person-with-disability', 'bystander', 'knee', 'protester', 'tackle', 'rubber-bullet', 'mace', 'headlock', 'incitement', 'punch', 'journalist', 'wooden-bullet', 'taser', 'zip-tie', 'conceal', 'live-round', 'dog', 'shield', 'arrest', 'hide-badge', 'non-protest', 'pepper-spray', 'celebrity', 'inhumane-treatment', 'elderly', 'threaten', 'racial-profiling', 'bean-bag', 'stun-grenade', 'lrad', 'pepper-ball', 'choke', 'baton', 'property-destruction', 'bike', 'projectile', 'throw', 'abuse-of-power', 'child', 'tase', 'lgbtq+', 'gas', 'beat', 'homeless', 'horse', 'strike'}\n",
            "{'pepper ball', 'stun grenade', 'property destruction', 'knee on neck', 'pepper spray', 'kick', 'marking round', 'tackle', 'tear gas', 'mace', 'headlock', 'punch', 'body cam', 'live round', 'taser', 'hide badge', 'wooden bullet', 'arrest', 'foam bullet', 'abuse of power', 'lrad', 'death', 'rubber bullet', 'choke', 'baton', 'bean bag', 'tase', 'gas'}\n"
          ],
          "name": "stdout"
        }
      ]
    },
    {
      "cell_type": "code",
      "metadata": {
        "id": "Ml43DtIn_jJ9",
        "colab_type": "code",
        "colab": {
          "base_uri": "https://localhost:8080/",
          "height": 547
        },
        "outputId": "93cb3af3-d263-4cc1-f588-a41089df804b"
      },
      "source": [
        "# Grabbing 100 hottest posts on Reddit at the moment. Will filter for police use of force later\n",
        "\n",
        "data = []\n",
        "\n",
        "# other possible subreddits: publicfreakout, allcopnodonut\n",
        "for submission in reddit.subreddit(\"news\").hot(limit=1000):\n",
        "  data.append([submission.id, submission.title, submission.score, submission.subreddit, submission.url, \n",
        "               submission.num_comments, submission.selftext, submission.created])\n",
        "\n",
        "# We'll need a way to get coordinates for a given post, before we include that in df\n",
        "col_names = ['id', 'title', 'score', 'subreddit', 'url', \n",
        "             'num_comments', 'text', 'created']\n",
        "df = pd.DataFrame(data, columns=col_names)\n",
        "\n",
        "df.head()"
      ],
      "execution_count": 4,
      "outputs": [
        {
          "output_type": "execute_result",
          "data": {
            "text/html": [
              "<div>\n",
              "<style scoped>\n",
              "    .dataframe tbody tr th:only-of-type {\n",
              "        vertical-align: middle;\n",
              "    }\n",
              "\n",
              "    .dataframe tbody tr th {\n",
              "        vertical-align: top;\n",
              "    }\n",
              "\n",
              "    .dataframe thead th {\n",
              "        text-align: right;\n",
              "    }\n",
              "</style>\n",
              "<table border=\"1\" class=\"dataframe\">\n",
              "  <thead>\n",
              "    <tr style=\"text-align: right;\">\n",
              "      <th></th>\n",
              "      <th>id</th>\n",
              "      <th>title</th>\n",
              "      <th>score</th>\n",
              "      <th>subreddit</th>\n",
              "      <th>url</th>\n",
              "      <th>num_comments</th>\n",
              "      <th>text</th>\n",
              "      <th>created</th>\n",
              "    </tr>\n",
              "  </thead>\n",
              "  <tbody>\n",
              "    <tr>\n",
              "      <th>0</th>\n",
              "      <td>idwafa</td>\n",
              "      <td>Man dies in Arizona after being restrained by ...</td>\n",
              "      <td>85584</td>\n",
              "      <td>news</td>\n",
              "      <td>https://news.sky.com/story/man-dies-in-arizona...</td>\n",
              "      <td>10502</td>\n",
              "      <td></td>\n",
              "      <td>1.598044e+09</td>\n",
              "    </tr>\n",
              "    <tr>\n",
              "      <th>1</th>\n",
              "      <td>idrvob</td>\n",
              "      <td>Belarusian museum director who refused to sign...</td>\n",
              "      <td>44192</td>\n",
              "      <td>news</td>\n",
              "      <td>http://khpg.org/en/index.php?id=1597789267&amp;fbc...</td>\n",
              "      <td>1112</td>\n",
              "      <td></td>\n",
              "      <td>1.598021e+09</td>\n",
              "    </tr>\n",
              "    <tr>\n",
              "      <th>2</th>\n",
              "      <td>idtpyq</td>\n",
              "      <td>For the first time in more than 100 years, the...</td>\n",
              "      <td>4223</td>\n",
              "      <td>news</td>\n",
              "      <td>https://www.cnn.com/2020/08/20/us/wolverines-r...</td>\n",
              "      <td>148</td>\n",
              "      <td></td>\n",
              "      <td>1.598032e+09</td>\n",
              "    </tr>\n",
              "    <tr>\n",
              "      <th>3</th>\n",
              "      <td>ie14w6</td>\n",
              "      <td>Activists find camera inside mysterious box on...</td>\n",
              "      <td>970</td>\n",
              "      <td>news</td>\n",
              "      <td>https://www.fox13memphis.com/news/local/activi...</td>\n",
              "      <td>175</td>\n",
              "      <td></td>\n",
              "      <td>1.598060e+09</td>\n",
              "    </tr>\n",
              "    <tr>\n",
              "      <th>4</th>\n",
              "      <td>idrwp2</td>\n",
              "      <td>Leaked photos show disassembled USPS machines ...</td>\n",
              "      <td>6625</td>\n",
              "      <td>news</td>\n",
              "      <td>https://nbcmontana.com/news/local/leaked-photo...</td>\n",
              "      <td>791</td>\n",
              "      <td></td>\n",
              "      <td>1.598022e+09</td>\n",
              "    </tr>\n",
              "  </tbody>\n",
              "</table>\n",
              "</div>"
            ],
            "text/plain": [
              "       id                                              title  ...  text       created\n",
              "0  idwafa  Man dies in Arizona after being restrained by ...  ...        1.598044e+09\n",
              "1  idrvob  Belarusian museum director who refused to sign...  ...        1.598021e+09\n",
              "2  idtpyq  For the first time in more than 100 years, the...  ...        1.598032e+09\n",
              "3  ie14w6  Activists find camera inside mysterious box on...  ...        1.598060e+09\n",
              "4  idrwp2  Leaked photos show disassembled USPS machines ...  ...        1.598022e+09\n",
              "\n",
              "[5 rows x 8 columns]"
            ]
          },
          "metadata": {
            "tags": []
          },
          "execution_count": 4
        }
      ]
    },
    {
      "cell_type": "code",
      "metadata": {
        "id": "Xu5hSlDW3G6y",
        "colab_type": "code",
        "colab": {
          "base_uri": "https://localhost:8080/",
          "height": 462
        },
        "outputId": "a953042a-b425-4193-dc6d-a3d376f4c5b0"
      },
      "source": [
        "import requests\n",
        "from bs4 import BeautifulSoup\n",
        "import re\n",
        "# get the url of the reddit post\n",
        "for url in df['url']:\n",
        "  # get the HTML from the url\n",
        "  try:\n",
        "    r = requests.get(url, timeout=10)\n",
        "  except:\n",
        "    continue\n",
        "  soup = BeautifulSoup(r.text)\n",
        "  # get tags from metadata for the site\n",
        "  sitetags = set()\n",
        "  for meta in soup.find_all('meta'):\n",
        "    if meta is None:\n",
        "      continue\n",
        "    meta = str(meta)\n",
        "    meta = meta.lower()\n",
        "    meta = re.sub('[\\W_]+',' ', meta)\n",
        "    for tag in str(meta).split():\n",
        "      sitetags.add(tag)\n",
        "  tags_final = sitetags & tags\n",
        "  if tags_final:\n",
        "    # some matches found, print title and matched tags\n",
        "    print(soup.title.text.strip(), tags_final)"
      ],
      "execution_count": 5,
      "outputs": [
        {
          "output_type": "stream",
          "text": [
            "Steve Bannon pleads not guilty to fraud charges in border wall scheme - CBS News {'arrest'}\n",
            "Driver who said God spoke to him before fatal crash found not guilty by reason of insanity | Courts | theadvocate.com {'baton'}\n",
            "Footage of black Muslim man who died in police custody renews calls for justice | US news | The Guardian {'death'}\n",
            "Curt Schilling says he hasn't been arrested alongside Steve Bannon {'arrest'}\n",
            "Suspect arrested after shooting at Vons gas station in Nipomo | Crime and Courts | santamariatimes.com {'gas'}\n",
            "Loughlin, Giannulli get prison time in college bribery plot {'arrest'}\n",
            "4 people missing after pipeline explosion at port in Texas {'gas'}\n",
            "Barr: Feds to appeal ruling, seek death for Boston bomber {'death'}\n",
            "New York couple arrested for allegedly harassing neighbor after 3-year back and forth - CNN {'arrest'}\n",
            "CPD: Father watches wife's murder on doorbell camera; Son charged in death | WTVC {'death'}\n",
            "UConn students evicted from dorms for holding pandemic party as schools grapple with COVID-19 crisis {'death'}\n",
            "61 Groups Call for Phoenix Cops' Arrest Over Killing of Muslim Man | Phoenix New Times {'arrest'}\n",
            "4 teens, including juvenile, arrested in connection with Raleigh girl’s murder outside Bojangles’ {'death'}\n",
            "Veronica Baker: 4 teenagers charged in death of 17-year-old found near Raleigh Bojangles on Jones Sausage Road - ABC11 Raleigh-Durham {'death'}\n",
            "Norway expels Russian diplomat over spying case {'arrest'}\n",
            "Calls for new inquiry into Belgian police custody death - BBC News {'death'}\n",
            "Police searching for suspect who sucker-punched elderly sidewalk sweeper – Boston News, Weather, Sports | WHDH 7News {'punch'}\n",
            "Victims Want Golden State Killer Sent to Toughest  Prison – NBC 7 San Diego {'death'}\n",
            "Minneapolis officer's attorney alleges George Floyd overdosed on fentanyl, says charges should be dropped {'death', 'arrest'}\n",
            "'Should've ducked': Detention officer suspended over post on boy who was shot to death {'death'}\n",
            "IS 'Beatles' will not face death penalty in US - BBC News {'death'}\n",
            "InfoWars’ Millie Weaver, boyfriend and brother threw mother to the ground and took her cellphone, police report says - cleveland.com {'arrest'}\n",
            "Rolling Blackouts in California Have Power Experts Stumped - The New York Times {'gas'}\n",
            "OPEC+ presses for compliance with oil cuts - Reuters {'gas'}\n",
            "Mississippi hotelier killed, group calls for justice - Asian Hospitality {'death'}\n"
          ],
          "name": "stdout"
        }
      ]
    },
    {
      "cell_type": "code",
      "metadata": {
        "id": "gtECtipJWHS8",
        "colab_type": "code",
        "colab": {
          "base_uri": "https://localhost:8080/",
          "height": 207
        },
        "outputId": "cec12740-0958-4a69-ffb3-3c817733554f"
      },
      "source": [
        "# Test grabbing the contents of the articles themselves to imporve spaCy NLP\n",
        "# get the url of the reddit post\n",
        "import re\n",
        "for url in df['url'][:10]:\n",
        "  # get the HTML from the url\n",
        "  try:\n",
        "    r = requests.get(url, timeout=10)\n",
        "  except:\n",
        "    continue\n",
        "  soup = BeautifulSoup(r.text)\n",
        "  # get text from website\n",
        "  output_text = \" \".join([x.text for x in soup.find_all('p')])\n",
        "  output_text = re.sub('[^a-zA-Z0-9.,\\']+', ' ', output_text).strip()\n",
        "  print(output_text)"
      ],
      "execution_count": 16,
      "outputs": [
        {
          "output_type": "stream",
          "text": [
            "Friday 21 August 2020 12 21, UK Police in Arizona have released bodycam and CCTV footage showing the arrest of a man who died after he was held by officers on hot tarmac for six minutes in 100 degree heat. Ramon Timothy Lopez, 28, became unresponsive in the back of a police car following his arrest for allegedly stealing a drink from a shop in the city of Phoenix. The cause of death is pending from the medical examiner, while two separate investigations are under way into the incident and the actions of the police officers involved. Lopez's brother David Gonzalez told local station KNXV TV Nobody's perfect, but he didn't deserve any of that. He added They were on top of him with all their weight on the hot asphalt. Who wouldn't be fighting He was fighting for his life, and he lost. The incident took place on 4 August after police received a call from a woman reporting a man behaving suspiciously, making obscene gestures and looking at people's cars. He's kind of acting funny, he's over there sticking his tongue out. I don't know what's wrong with him, the caller says, in an audio recording of the call also released by police. An officer arrived at the scene and spotted Lopez, who ran after he saw the police vehicle. The officer followed him in the car to a store, from which Lopez stole a drink, and confronted him as he emerged from the outlet. Bodycam footage shows Lopez throwing the drink at the officer as he is chased, before he is caught and they both fall to the ground. Two more officers arrive to help as the pair can be seen struggling in the middle of a road. Bodycam of an officer who has hold of his legs, shows another officer's knee on Lopez's right thigh, while another has placed their knee on his back. Despite attempts to resist, Lopez is eventually handcuffed and his legs placed in a restraint to stop him from kicking. He can be heard yelling out as he is restrained on his back. Lopez is told repeatedly to roll over by an officer as they try to move him onto his stomach, still moaning. You have got to relax, man, an officer can be heard saying. An officer conveys that they believe Lopez is under the influence of illegal drugs due to his erratic behaviour in a radio transmission. All the officers can then be seen on their feet standing around Lopez. More officers arrive at the scene and four lift him up and place him into the back of a police SUV to get him out of the road, Lopez still facing down. They then drive to a nearby car park, which takes about a minute, and check on Lopez and find him unresponsive. He is brought out of the vehicle and an officer can be seen pouring a bottle of water on his head. Wake up buddy, an officer says. Another asks Do you have a pulse An officer replies Yeah. He's breathing. Lopez was taken to a hospital, where he was pronounced dead. At about 10.40am, when the struggle was under way, the temperature in Phoenix was over 100F 38C . According to the National Weather Service, tarmac in direct sunlight can top outdoor temperatures by more than 60F 15C . Sgt Mercedes Fortune, of Phoenix Police Department, said Conclusions about whether the actions of the officers are consistent with department policy and the law will not be made until all facts are known and the investigation is complete. An internal investigation by the Phoenix Police Professional Standards Bureau is under way along with a separate criminal investigation by the homicide unit. Findings will be turned over to the Maricopa County Attorney's Office for review. The first officer to respond has 14 years of service. The additional two officers have three and 10 years of service with the Phoenix Police Department, she added. 2020 Sky UK\n",
            "Lukashenko regime s savagery may be backfiring in Belarus Belarus initiates mass riot criminal charges against detained Ukrainian rights activists Belarus I appeal to all Europe Please help us, because they re killing my family Belarus Peaceful protester killed in violent crackdown after claimed Lukashenko victory A volunteer search group in Belarus has found the body of 29 year old Kanstantsin Shyshmakou or Konstantin Shishmakov , the director of a military history museum in Vawkavysk who refused to sign a falsified electoral protocol claiming that Aleksandr Lukashenka had won the presidential elections. His body was found in a river, with the investigators asserting that their preliminary assessment is that his death is not of a criminal nature. Since Shyshmakou disappeared the first day after returning to work following his refusal to participate in falsifying the elections, it seems unlikely that this will be believed. Konstantin s father, Andrei Shyshmakou contacted TUT.BY on 16 August, saying that it all began on 9 August when his son, and another member of the electoral commission, refused to sign the electoral results protocol. He told his family that the document had, in any case, been signed for them. They had been offered a car that would take them home, but had refused, saying We have nothing to be ashamed of, we ll make our own way . He called his son a man with principles. Shyshmakou was on leave until Friday. Saturday 15 August was a working day for the museum, and was his first day back and his last. At the end of the day, around 17.00, he rang his wife, saying that he would not work there any longer. Some of the reports add that he said he was on his way home, although his father on 16 August said only that his son had disappeared after that call. It may be, in this case, that the young man was driven to kill himself, rather than murdered, but there is little chance that any official account will be believed. There have already been several deaths which the enforcement authorities have acknowledged, while in at least one case lying about the cause. Video footage, published by Associated Press, make it clear that Aleksandr Taraykouski was shot and killed and did not, as claimed, die from an explosive device that he was carrying. There are also a lot of people whose whereabouts are still unknown. Although some of the almost 7,000 people detained have been released, a huge number are still imprisoned. Those freed have given shocking accounts of the torture, that even a 14 year old boy was subjected to. David was held and savagely beaten in military barracks, together with a huge number of other people, including his stepfather, Denis. It seems that the family were not actually taking part in protests, however all were seized in Brest on 10 August. David s mother Inna was soon freed, but ignored when she tried to get them to release her son, who is still a child. She was eventually forced to sign a document saying that he had been at a protest, and that there were complaints against the OMON riot police . David was held in detention until very early on 11 August. His stepfather was released only on 16 August, badly beaten. Novaya Gazeta published a video taken outside the Belarusian SIZO or isolation unit on Okrestina St in Minsk during the early hours of 13 August. You can the screams and moaning of those clearly being tortured. All of this has been recorded many times over recent days, with the international media, for a change, given coverage to the protests. Even on 17 August, there was a sense of euphoria as more and more people came out in protest and whole factories, offices, etc. went on strike, demanding real elections. The protests are continuing, but Lukashenka is making it very plain that he has no plans to relinquish power. On Tuesday, he honoured enforcement officers involved in the savage brutality against peaceful protests, and he is certainly threatening to bring in more troops. In Ukraine, one Maidan activist spoke of Belarus having achieved in one week what it took the Euromaidan protests three months to do, however as of the evening of 18 August, that is still not clear. Lukashenka s ruthless imprisonment forced disappearances and killings of his opponents go back 20 years, and even without the very likely assistance that Russia s FSB at least will be providing, he still has the means to cause terrible bloodshed. Update On 19 August Henadzi Shutau from Brest died after being shot on 11 August. He was 43 years old. According to Franak Via orka, a political analyst from Minsk, Shutau was the fifth officially confirmed victim. Seventy people are missing. Victims of police violence in Belarus, August 2020 Aliaksandr Taraykouski 1986 10.08.2020 Aliaksandr Vikhor 1995 11.08.2020 Kanstantsin Shyshmakou 1991 15.08.2020 Artsjom Parukau 2001 16.08.2020 Henadzi Shutau 1977 19.08.2020 Lukashenko regime s savagery may be backfiring in Belarus Belarus initiates mass riot criminal charges against detained Ukrainian rights activists Belarus I appeal to all Europe Please help us, because they re killing my family Belarus Peaceful protester killed in violent crackdown after claimed Lukashenko victory login password confirm forgot the password registration E mail confirm\n",
            "By Kelsie Smith, CNN Updated 9 35 PM ET, Thu August 20, 2020 Chat with us in Facebook Messenger. Find out what's happening in the world as it unfolds. CNN A rare family of wolverines has made its home at Mount Rainier National Park for the first time in over a century, park officials announced Thursday. Wolverines Return to Mount Rainier National Park After More Than 100 Years, News Release https t.co qmCkTDsFAUVideo of three wolverines at the end of a snowfield then running through a meadow into a forest. Credit Travis Harris kl pic.twitter.com ALwJoAOmTG\n",
            "log in to manage your profile and account MEMPHIS, Tenn. A lot of questions came surrounding a mysterious box placed on a power pole outside the Memphis home of an outspoken union organizer. A viewer tipped FOX13 to it. We found out it s a surveillance camera that belongs to Memphis Police. It was right there. Right up under that light said union organizer Antonio Cathey as he described a strange box he noticed last week. It had words high voltage on it and was attached to a utility pole in front of a relative s home. Related MPD officer dies of COVID 19 complications, family says A fellow activist got suspicious, climbed a ladder, opened it up and discovered a camera inside. Cathey told FOX 13 it was pointing in the direction of his family s property. I am pretty sure they were most definitely surveilling me and other activists that meet on this street with me said Cathey. FOX13 wanted to know who owned the device. We started Sunday night emailing MLGW since it was on a utility pole. We also emailed Memphis Police to find out if they owned the camera and put it there. After five emails on Monday and Tuesday MLGW sent this response The camera in question was actually an MPD covert camera they installed temporarily and did not go through the normal attachment process. MPD would normally handle a covert camera installation through MLGW, however these cameras were only temporary for MPD and can be put up quickly and removed quickly by MPD as well. Cathey told FOX13 they are not only doing this to me. They are doing it other activists, known activists loud activists. Related Federal lawsuit filed over Memphis City Hall escort list FOX13 Investigates reported complaints from activists in 2017. They showed us video what they allege were police surveilling them at their jobs and homes. A federal consent decree prohibits MPD from political surveillance. One city councilman said he has concerns and will ask Memphis Police about the camera and intent. Councilman JB Smiley. Jr said, our citizens of city need to know. Was this related to an ongoing police investigation or was this simply spying or surveilling people because of their political beliefs FOX13 emailed MPD five times asking those same questions Sunday, Monday, Tuesday and Wednesday. We have not gotten a response. Activist Hunter Demster, who posted the device on his Facebook page said, I can already tell you I am not going to buy whatever story, whatever PR they are about to push. The surveillance camera is now gone, taken down one day after activists posted about it on Facebook. Those same activists claim Memphis Police removed it. MLWG confirmed that in an email but MPD won t comment. Download the FOX13 Memphis app to receive alerts from breaking news in your neighborhood. CLICK HERE TO DOWNLOAD Trending stories 2020 Cox Media Group 2020 Cox Media Group. By using this website, you accept the terms of our Visitor Agreement and Privacy Policy, and understand your options regarding Ad Choices. This station is part of Cox Media Group Television. Learn about careers at Cox Media Group.\n",
            "\n",
            "Another Fort Hood soldier has disappeared, and the Killeen Police Department and law enforcement officials at the Texas base are asking for the public s help as they try to locate him. Sgt. Elder Fernandez, 23, was last seen by his staff sergeant on Monday afternoon, members of his family told Killeen police officers Wednesday. The staff sergeant dropped him off at his residence in the 2700 block of Woodlands Drive in Killeen, according to a police department news release. The soldier, a chemical, biological, radiological and nuclear specialist, is assigned to the 1st Cavalry Division Sustainment Brigade, according to multiple local news media outlets. We are seeking your help in locating Sgt. Elder Fernandes. Please contact the Fort Hood Military Police at 254 288 1170 or US Army CID at 254 287 2722, if you have any information on his whereabouts. pic.twitter.com 81I1SEx9hl Fernandez is approximately 5 foot 4 and 133 pounds, according to the police news release. He was last seen wearing black Army PT shorts and T shirt with red athletic shoes. The 1st Cavalry Division tweeted a Missing Soldier Alert Thursday night. We are actively searching to locate him and continue to stay in touch with his Family, friends, and law enforcement, the tweet said. Our primary concern is to ensure his safety and wellbeing. Don't miss the top Army stories, delivered each afternoon For more newsletters click here Sign up for the Army Times Daily News Roundup to receive the top Army stories every afternoon. By giving us your email, you are opting in to the Army Times Daily News Roundup. Base officials asked anyone with knowledge of his whereabouts to contact the Fort Hood Military Police at 254 288 1170 or U.S. Army CID at 254 287 2722. Detectives with the Killeen PD s Criminal Investigation Division are asking anyone who has seen Fernandez or knows his whereabouts to contact the Killeen Police Department at 254 200 7905. Fort Hood has had a disturbing number of soldiers go missing in recent years. In the most infamous case, Spc. Vanessa Guillen was bludgeoned to death by a fellow soldier inside a Fort Hood armory and later dismembered to hide the remains, according to federal prosecutors. Guillen had disappeared April 22. Her remains were found in early July. Last summer, Pvt. Gregory Morales disappeared days before he was set to be discharged from the Army. His skeletal remains were finally discovered in June in Killeen. Eight soldiers have died on or near Fort Hood this year. Five of those deaths have been publicly linked to foul play. An independent command climate review is ongoing at the central Texas installation, which is home to 45,000 soldiers. In a visit to the base earlier in August, Army Secretary Ryan McCarthy told reporters the review, among other things, will attempt to identify causes of high crime rates in the area and will look not only at Fort Hood, but also the surrounding community.\n",
            "3 Min Read NEW YORK Reuters Ghislaine Maxwell s chance of a fair trial on criminal charges she aided Jeffrey Epstein s sexual abuse of girls could be destroyed by substantial negative publicity if a deposition she gave four years ago were publicly released, her lawyers said. The lawyers made the argument in a Thursday night filing asking the 2nd U.S. Circuit Court of Appeals in Manhattan to reverse a lower court judge s order to unseal the deposition and other documents. Maxwell s deposition had been taken in April 2016 for a now settled civil defamation lawsuit against the British socialite by Virginia Giuffre, who said Epstein kept her as a sex slave with Maxwell s assistance. Lawyers for Maxwell said the unsealing order did not take into proper account their client s privacy interests or the promise of confidentiality she received before being deposed. If the unsealing order goes into effect, it will forever let the cat out of the bag, the lawyers said, warning that intimate, sensitive, and personal information about Maxwell might spread like wildfire across the Internet. The lawyers also said an unsealing would cause irreversible and unconstitutional negative publicity, and undermine the truth seeking function of Maxwell s trial by leading witnesses to recast their memories of events from decades ago. Maxwell, 58, has pleaded not guilty to helping Epstein recruit and eventually abuse three girls, who prosecutors did not publicly name, from 1994 to 1997, and to committing perjury by denying her involvement under oath. She was arrested on July 2 in New Hampshire, where prosecutors said she was trying to evade capture, and is being held in a Brooklyn jail after a judge called her a flight risk. Maxwell s trial is scheduled for next July. Epstein was found hanged at age 66 last August in a Manhattan jail while awaiting trial on sex trafficking charges. Giuffre has been one of Epstein s most visible accusers, and her lawyers have said the public has a right to see Maxwell s deposition. Lawyers for Maxwell disagreed, saying her constitutional rights to remain silent and get a fair trial by an impartial jury outweigh any presumption of public access. Maxwell would not be required to testify at her trial. A lawyer for Giuffre did not immediately respond to a request for comment. Oral arguments are scheduled for Sept. 22. Some documents from the defamation case were released last month. Maxwell s lawyers asked the appeals court for permission to seal more than 1,000 pages of additional materials, which include her deposition, filed with the appeal. Maxwell is separately seeking to have prosecutors identify the three accusers in her indictment and challenging her confinement conditions at the Brooklyn jail, saying she is being treated worse than other pretrial inmates. Reporting by Jonathan Stempel in New York Editing by Sonya Hepinstall, Grant McCool and Gerry Doyle All quotes delayed a minimum of 15 minutes. See here for a complete list of exchanges and delays. 2020 Reuters. All Rights Reserved.\n",
            "Roberto Flores Lopez Facebook LANCASTER, Calif. An 80 year old man who was severely beaten and robbed in a grocery store bathroom in Lancaster died Tuesday from his injuries, according to his family. Roberto Flores Lopez was attacked July 8 inside the restroom of Superior Grocers in the 1000 block of East Avenue J, near 10th Street, and his wallet was stolen, authorities said. He was discovered severely beaten on the floor of the bathroom by someone who later came into the restroom. Get breaking news alerts in the FOX 11 News app. Download for iOS or Android. Lopez was hospitalized for injuries that included a broken jaw and nose as well as multiple broken ribs. According to his family, Lopez died Wednesday morning, leaving behind his wife Amelia, four children, 16 grandchildren and one great grandson. Advertisement Relatives plan to hold a Wednesday afternoon news conference to discuss his death and call for the suspect in the crime 22 year old Damaris Wade to be prosecuted for murder. Demaris Wade Wade surrendered to authorities days after the attack, and after sheriff's investigators circulated photos of him and his girlfriend, who was initially charged with being an accessory to the crime, but the case against her was later dropped. RELATED Man charged with trying to kill 80 year old man in Lancaster grocery store bathroom Suspects wanted for assaulting, robbing 80 year old man in Lancaster turn themselves in Authorities seek help locating suspects in alleged attack on 80 year old at grocery store Wade was charged with attempted murder, elder abuse with infliction of injury and second degree robbery. The charges include allegations that Wade inflicted great bodily injury on a victim 70 or older and that he has a prior conviction for robbery in 2016. If convicted as currently charged, Wade could face a potential 25 year to life state prison sentence, according to prosecutors. With Lopez's death, however, the charges could be amended. CNS contributed to this report. This material may not be published, broadcast, rewritten, or redistributed. 2020 FOX Television Stations\n",
            "Sections TV Featured More from NBC Follow NBC News Coronavirus cases tied to this month's Sturgis Motorcycle Rally in South Dakota have appeared across state lines in Nebraska, public health officials said Thursday. At least seven new cases in the region have been tied to the rally, the Panhandle Public Health District confirmed to NBC News. The health department did not provide further details. This site is protected by recaptcha Privacy Policy Terms of Service The annual 10 day gathering began August 7 and ran until Sunday and drew more than 460,000 vehicles, according to South Dakota s Department of Transportation. The event was held despite concerns from residents that it may put people at risk for contracting COVID 19, the disease associated with the virus. At least one case had already been connected to the rally. The state s Department of Health said in a news release Tuesday that a South Dakota resident who visited One Eyed Jack's Saloon in Sturgis between noon and 5 30 p.m. Aug. 11 may have transmitted the virus to other patrons. Videos and photos posted to social media showed a large crowd gathered during a Smash Mouth performance during the rally's opening weekend. The band headlined the Sturgis Buffalo Chip music festival. Event organizers had said signs would be posted at all entry points and gathering areas to remind guests to remain socially distant, encourage the use of face coverings and explain recommendations from the Centers for Disease Control and Prevention to help prevent the spread of the virus. But attendees seemingly flouted such guidance as images showed them close together without masks or face coverings during the band's set. Social media users criticized Smash Mouth for its involvement in the gathering. Frontman Steve Harwell told the crowd, We're all here together tonight. F that COVID s , one video showed. A representative for the group said the band had no further comment. Doha Madani is a breaking news reporter for NBC News. 2020 NBC UNIVERSAL\n",
            "Doing time. Lori Loughlin was officially sentenced by a judge on Friday, August 21, after agreeing to a plea deal for her involvement in the college admissions scandal earlier this year. Loughlin, 56, was sentenced to two months of prison, two years of supervised release, 100 hours of community service and a 150,000 fine. She appeared via Zoom in a white button down shirt and sat next to attorney Sean Berkowitz. While I wish I could go back and do things differently, I can only take responsibility and move forward, she told the judge through tears. I have great faith in God and I believe in redemption and I will do everything in my power to redeem myself and use this experience as a catalyst to do good and give back for the rest of my life. The actress husband, Mossimo Giannulli, also attended his hearings via Zoom on Friday. Hours before his wife, Giannulli, 57, was sentenced to five months in prison, two years of supervised release, a 250,000 fine and 250 hours of community service. More than one year after their initial arrest, the Full House alum and her husband entered their guilty pleas via video call in May. The couple, who tied the knot in November 1997, made headlines in March 2019 after they were accused of allegedly paying 500,000 in bribes to ensure that daughters Bella Giannulli , 21, and Olivia Jade Giannulli, 20, would be admitted to the University of Southern California was crew recruits. It was later revealed that neither student had ever played the sport, but photos of the sisters on rowing machines were released by federal prosecutors in April. Loughlin and Mossimo originally pleaded not guilty to the charges brought against them, but a source told Us Weekly exclusively in May that their children were proud that they eventually changed their tune. It will be surreal for Isabella and Olivia to visit them behind bars, but this is a much better outcome than what they envisioned, the insider said at the time. As embarrassing and awful as it s been, Olivia and Isabella still love their mom deeply, and it pains them to see her suffer. A separate source later explained that the former Fuller House actress and Mossimo were hoping to serve their sentences at different times so that one parent can be free to provide emotional support to the girls. Despite the scandal, Loughlin is hopeful that her family can find a way to move forward and even wants to return to the world of TV someday to tell her side of the story. However, an image consultant isn t sure if the Summerland alum can make a successful comeback. It was the length of time she pretended she was innocent and people won t be that forgiving, New York based image consultant Amanda Sanders previously told Us, claiming that Loughlin thought she was above the law before her sentencing. With reporting by Marjorie Hernandez For access to all our exclusive celebrity videos and interviews Subscribe on YouTube Us Weekly has affiliate partnerships so we may receive compensation for some links to products and services. Part of the American Media Entertainment Group.Powered by WordPress.com VIP\n"
          ],
          "name": "stdout"
        }
      ]
    },
    {
      "cell_type": "code",
      "metadata": {
        "id": "nLCpeUv1uw4P",
        "colab_type": "code",
        "colab": {}
      },
      "source": [
        ""
      ],
      "execution_count": null,
      "outputs": []
    }
  ]
}